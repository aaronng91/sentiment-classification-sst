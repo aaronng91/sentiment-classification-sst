{
  "nbformat": 4,
  "nbformat_minor": 0,
  "metadata": {
    "accelerator": "GPU",
    "colab": {
      "name": "Sentiment Classification on Stanford Sentiment Treebank",
      "provenance": [],
      "collapsed_sections": []
    },
    "kernelspec": {
      "display_name": "Python 3",
      "language": "python",
      "name": "python3"
    },
    "language_info": {
      "codemirror_mode": {
        "name": "ipython",
        "version": 3
      },
      "file_extension": ".py",
      "mimetype": "text/x-python",
      "name": "python",
      "nbconvert_exporter": "python",
      "pygments_lexer": "ipython3",
      "version": "3.7.3"
    }
  },
  "cells": [
    {
      "cell_type": "markdown",
      "metadata": {
        "id": "A43-Jjo1ySkk",
        "colab_type": "text"
      },
      "source": [
        "# Sentiment Classification on Stanford Sentiment Treebank"
      ]
    },
    {
      "cell_type": "code",
      "metadata": {
        "id": "KIFl11dIyQUY",
        "colab_type": "code",
        "colab": {}
      },
      "source": [
        "import numpy as np\n",
        "import pandas as pd\n",
        "from gensim.models.keyedvectors import KeyedVectors\n",
        "from sklearn.metrics import accuracy_score\n",
        "import matplotlib.pyplot as plt\n",
        "\n",
        "from torchtext import data\n",
        "from torchtext import vocab\n",
        "from torchtext.vocab import Vectors\n",
        "from torch.autograd import Variable\n",
        "\n",
        "import torch\n",
        "import torch.nn as nn\n",
        "import torch.optim as optim\n",
        "import torch.nn.functional as F\n",
        "\n",
        "device = torch.device(\"cuda:0\" if torch.cuda.is_available() else \"cpu\")"
      ],
      "execution_count": 0,
      "outputs": []
    },
    {
      "cell_type": "markdown",
      "metadata": {
        "id": "Byixbpx4yQUf",
        "colab_type": "text"
      },
      "source": [
        "Download SST dataset and load into notebook"
      ]
    },
    {
      "cell_type": "code",
      "metadata": {
        "colab_type": "code",
        "id": "VN4ALzOgRu6u",
        "colab": {}
      },
      "source": [
        "! `curl -fsS https://nlp.stanford.edu/sentiment/trainDevTestTrees_PTB.zip -o /tmp/trainDevTestTrees_PTB.zip`\n",
        "! `unzip -q -o -d /tmp /tmp/trainDevTestTrees_PTB.zip`\n",
        "! `rm -f /tmp/trainDevTestTrees_PTB.zip`"
      ],
      "execution_count": 0,
      "outputs": []
    },
    {
      "cell_type": "code",
      "metadata": {
        "colab_type": "code",
        "id": "OJRhwJrtRu6x",
        "colab": {}
      },
      "source": [
        "def loadsst(path):\n",
        "    xs = list()\n",
        "    ys = list() \n",
        "    with open(path) as file:\n",
        "        # Quick, dirty, and improper S-expression parsing.\n",
        "        for i , line in enumerate(file):\n",
        "            soup = line.split()\n",
        "            ys.append(int(soup[0].lstrip(\"(\")))\n",
        "            tokens = list()\n",
        "            for chunk in soup[1:-1]:\n",
        "                if chunk[-1] == \")\":\n",
        "                    token = chunk.rstrip(')')\n",
        "                    tokens.append(token)\n",
        "            xs.append(tokens)\n",
        "    return xs, ys\n",
        "        \n",
        "ssttrainxs, ssttrainys = loadsst(\"/tmp/trees/train.txt\")\n",
        "sstvalidxs, sstvalidys = loadsst(\"/tmp/trees/dev.txt\")\n",
        "ssttestxs, ssttestys   = loadsst(\"/tmp/trees/test.txt\")"
      ],
      "execution_count": 0,
      "outputs": []
    },
    {
      "cell_type": "code",
      "metadata": {
        "colab_type": "code",
        "id": "9FeiHkx8Ru6z",
        "colab": {}
      },
      "source": [
        "trainx = pd.DataFrame.from_records([[' '.join(x)] for x in ssttrainxs])\n",
        "trainy = pd.DataFrame(ssttrainys)\n",
        "validx = pd.DataFrame.from_records([[' '.join(x)] for x in sstvalidxs])\n",
        "validy = pd.DataFrame(sstvalidys)\n",
        "testx = pd.DataFrame.from_records([[' '.join(x)] for x in ssttestxs])\n",
        "testy = pd.DataFrame(ssttestys)\n",
        "train = pd.concat([trainx, trainy], axis=1)\n",
        "valid = pd.concat([validx, validy], axis=1)\n",
        "test = pd.concat([testx, testy], axis=1)\n",
        "train.to_csv('/tmp/train.csv', index=False)\n",
        "valid.to_csv('/tmp/valid.csv', index=False)\n",
        "test.to_csv('/tmp/test.csv', index=False)"
      ],
      "execution_count": 0,
      "outputs": []
    },
    {
      "cell_type": "markdown",
      "metadata": {
        "id": "RNKPmaHuyQU3",
        "colab_type": "text"
      },
      "source": [
        "Use PyTorch's TorchText library to load the training, validation and testing dataset. Here, we define our fields, where TEXT are our reviews and LABEL are our sentiments."
      ]
    },
    {
      "cell_type": "code",
      "metadata": {
        "colab_type": "code",
        "id": "7vO2qAZ8Ru61",
        "colab": {}
      },
      "source": [
        "TEXT = data.Field(include_lengths=True)\n",
        "LABEL = data.Field(\n",
        "    use_vocab=False,\n",
        "    sequential=False,\n",
        "    pad_token=None,\n",
        "    unk_token=None\n",
        ")\n",
        "fields = [('Text', TEXT), ('Label', LABEL)]\n",
        "\n",
        "trainds, valds, testds = data.TabularDataset.splits(path='/tmp', \n",
        "                                            format='csv', \n",
        "                                            train='train.csv', \n",
        "                                            validation='valid.csv', \n",
        "                                            test='test.csv',\n",
        "                                            fields=fields, \n",
        "                                            skip_header=True)"
      ],
      "execution_count": 0,
      "outputs": []
    },
    {
      "cell_type": "markdown",
      "metadata": {
        "id": "ETyNSPVbyQU6",
        "colab_type": "text"
      },
      "source": [
        "Download embeddings and load it into notebook."
      ]
    },
    {
      "cell_type": "code",
      "metadata": {
        "colab_type": "code",
        "id": "bwJ9x1OlRu65",
        "colab": {}
      },
      "source": [
        "! `curl -fsS https://s3.amazonaws.com/dl4j-distribution/GoogleNews-vectors-negative300.bin.gz -o /tmp/GoogleNews-vectors-negative300.bin.gz`"
      ],
      "execution_count": 0,
      "outputs": []
    },
    {
      "cell_type": "code",
      "metadata": {
        "colab_type": "code",
        "id": "w8yJY5_VRu69",
        "outputId": "1716ee99-0e89-4c64-d678-9c578d00e3d9",
        "colab": {
          "base_uri": "https://localhost:8080/",
          "height": 51
        }
      },
      "source": [
        "model = KeyedVectors.load_word2vec_format('/tmp/GoogleNews-vectors-negative300.bin.gz', binary=True)\n",
        "model.save_word2vec_format('/tmp/GoogleNews-vectors-negative300.txt', binary=False)"
      ],
      "execution_count": 0,
      "outputs": [
        {
          "output_type": "stream",
          "text": [
            "/usr/local/lib/python3.6/dist-packages/smart_open/smart_open_lib.py:402: UserWarning: This function is deprecated, use smart_open.open instead. See the migration notes for details: https://github.com/RaRe-Technologies/smart_open/blob/master/README.rst#migrating-to-the-new-open-function\n",
            "  'See the migration notes for details: %s' % _MIGRATION_NOTES_URL\n"
          ],
          "name": "stderr"
        }
      ]
    },
    {
      "cell_type": "markdown",
      "metadata": {
        "id": "2VrUrcGqyQU_",
        "colab_type": "text"
      },
      "source": [
        "We use build_vocab function in TorchText to build the vocabulary for our dataset using the embeddings"
      ]
    },
    {
      "cell_type": "code",
      "metadata": {
        "colab_type": "code",
        "id": "jt_HaSLGUq3y",
        "outputId": "280dd060-8bd6-4e55-a9be-9e70a453f288",
        "colab": {
          "base_uri": "https://localhost:8080/",
          "height": 51
        }
      },
      "source": [
        "TEXT.build_vocab(trainds, vectors=vocab.Vectors('GoogleNews-vectors-negative300.txt', '/tmp'))"
      ],
      "execution_count": 0,
      "outputs": [
        {
          "output_type": "stream",
          "text": [
            "  0%|          | 0/3000000 [00:00<?, ?it/s]Skipping token b'3000000' with 1-dimensional vector [b'300']; likely a header\n",
            "100%|█████████▉| 2999813/3000000 [06:43<00:00, 8197.36it/s]"
          ],
          "name": "stderr"
        }
      ]
    },
    {
      "cell_type": "markdown",
      "metadata": {
        "id": "q9Gurpf8yQVE",
        "colab_type": "text"
      },
      "source": [
        "We can inspect our vocabulary and observe that we have a 18254 x 300 dictionary, where each word is represented by a vector of size 300"
      ]
    },
    {
      "cell_type": "code",
      "metadata": {
        "colab_type": "code",
        "id": "Cp-5yp-jebKI",
        "outputId": "ea0b853d-8813-427d-970f-e601c773290e",
        "colab": {
          "base_uri": "https://localhost:8080/",
          "height": 34
        }
      },
      "source": [
        "TEXT.vocab.vectors.size()"
      ],
      "execution_count": 0,
      "outputs": [
        {
          "output_type": "execute_result",
          "data": {
            "text/plain": [
              "torch.Size([18254, 300])"
            ]
          },
          "metadata": {
            "tags": []
          },
          "execution_count": 9
        }
      ]
    },
    {
      "cell_type": "code",
      "metadata": {
        "colab_type": "code",
        "id": "kFHWGZzdaL8P",
        "outputId": "5a6e9677-6a86-4b92-f266-15872731d72c",
        "colab": {
          "base_uri": "https://localhost:8080/",
          "height": 663
        }
      },
      "source": [
        "TEXT.vocab.vectors[TEXT.vocab.stoi['the']]"
      ],
      "execution_count": 0,
      "outputs": [
        {
          "output_type": "execute_result",
          "data": {
            "text/plain": [
              "tensor([ 0.0801,  0.1050,  0.0498,  0.0535, -0.0674, -0.1206,  0.0352, -0.1187,\n",
              "         0.0439,  0.0302, -0.0569, -0.0762,  0.0129,  0.0498, -0.0850, -0.0635,\n",
              "         0.0063, -0.0432,  0.0203,  0.0133, -0.0195,  0.0928, -0.1719, -0.0013,\n",
              "         0.0654,  0.0583, -0.0825,  0.0859, -0.0032,  0.0586, -0.0349, -0.0123,\n",
              "        -0.0481, -0.0030,  0.0564,  0.0150, -0.0723, -0.0522,  0.0967,  0.0430,\n",
              "        -0.0354, -0.0732,  0.0327, -0.0618,  0.0079,  0.0036, -0.0088,  0.0391,\n",
              "         0.0383,  0.0444,  0.0698,  0.0126, -0.0045, -0.0332, -0.0427,  0.0977,\n",
              "        -0.0216, -0.0378,  0.0119, -0.0139, -0.1133,  0.0933, -0.0393, -0.1162,\n",
              "         0.0233, -0.0160,  0.0264,  0.1074, -0.0047,  0.0962,  0.0280, -0.0540,\n",
              "         0.0854, -0.0369, -0.0203, -0.0854,  0.1250,  0.1445,  0.0267,  0.1504,\n",
              "         0.0527, -0.1865,  0.0815, -0.0106, -0.0374, -0.0732, -0.0752,  0.0361,\n",
              "        -0.1318,  0.0062,  0.0508,  0.0452,  0.0101, -0.1504, -0.0601,  0.0576,\n",
              "        -0.0069,  0.0159, -0.0214,  0.1035, -0.0003, -0.0469, -0.0164, -0.0786,\n",
              "        -0.0693,  0.0164, -0.0315, -0.0137, -0.0366, -0.0889, -0.0481, -0.0132,\n",
              "        -0.0718,  0.0059, -0.0461,  0.0398,  0.1006, -0.0493,  0.0757,  0.0388,\n",
              "        -0.1670, -0.0962, -0.1011,  0.0291, -0.0579, -0.0193, -0.0430, -0.0840,\n",
              "        -0.0199,  0.0515,  0.0085, -0.0361, -0.1494, -0.0186, -0.0364, -0.0767,\n",
              "        -0.0396, -0.0615, -0.0200,  0.0415,  0.0369, -0.0723,  0.0059, -0.0630,\n",
              "         0.0074, -0.0159,  0.0161, -0.0145,  0.0077,  0.1011, -0.0056,  0.0143,\n",
              "        -0.0762,  0.0564, -0.0129,  0.0306, -0.0249, -0.0986,  0.0325, -0.0281,\n",
              "        -0.0811,  0.0206,  0.0161, -0.0420, -0.0349, -0.0376,  0.0549,  0.0137,\n",
              "         0.0269, -0.0586, -0.0718, -0.1201, -0.0228, -0.1641, -0.0036, -0.0598,\n",
              "         0.0708, -0.0771,  0.0518, -0.0430, -0.0483,  0.0300, -0.0659, -0.0317,\n",
              "        -0.0488, -0.0349,  0.0588, -0.0146,  0.1807,  0.0569,  0.0525,  0.0579,\n",
              "         0.1167,  0.0520, -0.0535,  0.0187, -0.0156,  0.0058, -0.0732, -0.1162,\n",
              "         0.0405,  0.0625, -0.0432,  0.0106,  0.0217,  0.0425,  0.0327,  0.0442,\n",
              "         0.0576,  0.0261, -0.0183, -0.0270, -0.0067,  0.0051, -0.1162,  0.0036,\n",
              "         0.0576, -0.0596, -0.0884,  0.0135,  0.0454, -0.0464, -0.0177, -0.0625,\n",
              "         0.0344, -0.0242,  0.0309,  0.0957,  0.0796,  0.0393,  0.0280, -0.0859,\n",
              "         0.0811,  0.0664, -0.0004, -0.0693,  0.0359, -0.0342,  0.0449, -0.0077,\n",
              "        -0.0074, -0.0476,  0.0140, -0.0996,  0.0247, -0.0996,  0.1147,  0.0317,\n",
              "         0.0221,  0.0723,  0.0369,  0.0256,  0.0137, -0.0273,  0.0059, -0.0674,\n",
              "         0.0505, -0.0283, -0.0452, -0.0173,  0.0211,  0.0352, -0.0430,  0.0664,\n",
              "         0.1221,  0.1235,  0.0040,  0.0452, -0.0186,  0.0483,  0.0452,  0.0869,\n",
              "         0.0294,  0.0376,  0.0344, -0.0737, -0.0403, -0.1465, -0.0244, -0.0195,\n",
              "         0.0066, -0.0018, -0.0109,  0.0933,  0.0654,  0.0184, -0.0933, -0.0157,\n",
              "        -0.0713, -0.0894, -0.0713, -0.0302, -0.0130,  0.0164, -0.0183,  0.0148,\n",
              "         0.0050,  0.0037,  0.0476, -0.0688])"
            ]
          },
          "metadata": {
            "tags": []
          },
          "execution_count": 10
        }
      ]
    },
    {
      "cell_type": "markdown",
      "metadata": {
        "id": "2mfR8zt3yQVP",
        "colab_type": "text"
      },
      "source": [
        "Using TorchText's BucketIterator, we can load our training and validation set into a DataLoader, which helps in batching of our data and padding of sequences to match the longest sequence in the batch. Sequences of similar lengths are batched together, so we don't end up with too much padding.\n",
        "\n",
        "Here, we show an example of a batch of size 3 being created, where each column in the batch is a sequence converted into a vector of vocabulary indexes, with padding if necessary, and the corresponding labels in the batch."
      ]
    },
    {
      "cell_type": "code",
      "metadata": {
        "colab_type": "code",
        "id": "mMRj2PAvabW2",
        "colab": {}
      },
      "source": [
        "traindl, valdl = data.BucketIterator.splits(datasets=(trainds, testds),\n",
        "                                            batch_sizes=(3,3),\n",
        "                                            sort_key=lambda x: len(x.Text),\n",
        "                                            device=None,\n",
        "                                            sort_within_batch=False)"
      ],
      "execution_count": 0,
      "outputs": []
    },
    {
      "cell_type": "code",
      "metadata": {
        "colab_type": "code",
        "id": "8_Fi_OaTeiEL",
        "outputId": "27c2aa8d-a888-4886-c7c8-926c98068493",
        "colab": {
          "base_uri": "https://localhost:8080/",
          "height": 544
        }
      },
      "source": [
        "batch = next(iter(traindl))\n",
        "print(batch.Text)\n",
        "print(batch.Label)"
      ],
      "execution_count": 0,
      "outputs": [
        {
          "output_type": "stream",
          "text": [
            "(tensor([[ 6442,  2921,    27],\n",
            "        [   14,     3,  1744],\n",
            "        [   39,   331,   155],\n",
            "        [    6,     9,     6],\n",
            "        [    3,   119,     3],\n",
            "        [  238,  4012,   147],\n",
            "        [    8,     2,   124],\n",
            "        [   58,    71,    37],\n",
            "        [  537,    96,     7],\n",
            "        [   19,     3,   738],\n",
            "        [ 1316,    19,   233],\n",
            "        [    2,   469,     4],\n",
            "        [ 2034,     9,   425],\n",
            "        [   20,   400,     5],\n",
            "        [ 1589,   588,   801],\n",
            "        [ 3465,     2,     6],\n",
            "        [   18,  5656,   150],\n",
            "        [   12,    69,   227],\n",
            "        [  195,     2, 13978],\n",
            "        [   12,     4,    12],\n",
            "        [ 3253,     3,    57],\n",
            "        [   23,   342,     1],\n",
            "        [    7,   159,     1],\n",
            "        [ 2390,    31,     1],\n",
            "        [11524,  6192,     1],\n",
            "        [   71,  4569,     1],\n",
            "        [    5,     1,     1],\n",
            "        [   19,     1,     1],\n",
            "        [   63,     1,     1],\n",
            "        [   26,     1,     1]]), tensor([30, 26, 21]))\n",
            "tensor([4, 4, 3])\n"
          ],
          "name": "stdout"
        }
      ]
    },
    {
      "cell_type": "markdown",
      "metadata": {
        "id": "Vx5G8-TIyQVV",
        "colab_type": "text"
      },
      "source": [
        "Here, we create a wrapper class around the BucketIterator, since it returns a Batch object instead of the text and labels in each batch. This will help when accessing the text and labels in each batch directly."
      ]
    },
    {
      "cell_type": "code",
      "metadata": {
        "colab_type": "code",
        "id": "tuQAFa8wq2gK",
        "colab": {}
      },
      "source": [
        "class BatchGenerator:\n",
        "    def __init__(self, dl, x_field, y_field):\n",
        "        self.dl, self.x_field, self.y_field = dl, x_field, y_field\n",
        "        \n",
        "    def __len__(self):\n",
        "        return len(self.dl)\n",
        "    \n",
        "    def __iter__(self):\n",
        "        for batch in self.dl:\n",
        "            X = getattr(batch, self.x_field)\n",
        "            y = getattr(batch, self.y_field)\n",
        "            yield (X,y)"
      ],
      "execution_count": 0,
      "outputs": []
    },
    {
      "cell_type": "markdown",
      "metadata": {
        "id": "h-sawGndyQVY",
        "colab_type": "text"
      },
      "source": [
        "Definition of our Sentiment Classification model, using RNN, followed by a MLP"
      ]
    },
    {
      "cell_type": "code",
      "metadata": {
        "colab_type": "code",
        "id": "xPyLn5kRt7RX",
        "colab": {}
      },
      "source": [
        "class Model(nn.Module):\n",
        "    def __init__(\n",
        "        self, vocab_size, embed_dim, pretrained_vec, \n",
        "        num_hidden_rnn, num_rnn_layers, \n",
        "        mlp_layers, num_classes,\n",
        "        rec_unit_type, train_embeddings=False\n",
        "    ):\n",
        "        super().__init__()\n",
        "        self.vocab_size = vocab_size\n",
        "        self.embed_dim = embed_dim\n",
        "        self.num_hidden_rnn = num_hidden_rnn\n",
        "        self.num_rnn_layers = num_rnn_layers\n",
        "        self.mlp_layers = mlp_layers\n",
        "        self.num_classes = num_classes\n",
        "        \n",
        "        self.embeddings = nn.Embedding(self.vocab_size, self.embed_dim)\n",
        "        self.embeddings.weight.data.copy_(pretrained_vec) # Load pretrained embeddings\n",
        "        self.embeddings.weight.requires_grad = train_embeddings  # Decide if embeddings get updated or not\n",
        "\n",
        "        # Define RNN layers using \"vanilla\" RNN, GRU or LSTM\n",
        "        if (rec_unit_type == \"RNN\"):\n",
        "            self.rec = nn.RNN(\n",
        "                input_size=self.embed_dim, \n",
        "                hidden_size=self.num_hidden_rnn, \n",
        "                num_layers=num_rnn_layers)\n",
        "        elif (rec_unit_type == \"GRU\"):\n",
        "            self.rec = nn.GRU(\n",
        "                input_size=self.embed_dim, \n",
        "                hidden_size=self.num_hidden_rnn, \n",
        "                num_layers=num_rnn_layers)\n",
        "        elif (rec_unit_type == \"LSTM\"):\n",
        "            self.rec = nn.LSTM(\n",
        "                input_size=self.embed_dim, \n",
        "                hidden_size=self.num_hidden_rnn,\n",
        "                num_layers=num_rnn_layers)\n",
        "\n",
        "        # Define MLP layers\n",
        "        self.mlp = nn.ModuleList()\n",
        "        for i, hidden_layer in enumerate(mlp_layers):\n",
        "            if i == 0:\n",
        "                self.mlp.append(nn.Linear(self.num_hidden_rnn, hidden_layer))\n",
        "            else:\n",
        "                self.mlp.append(nn.Linear(mlp_layers[i-1], hidden_layer))\n",
        "\n",
        "        # Define final output layer\n",
        "        self.out = nn.Linear(mlp_layers[-1], self.num_classes)\n",
        "        \n",
        "    def forward(self, X):\n",
        "        # Re-initialize hidden states for each batch, so we are not sharing hidden states across batches\n",
        "        self.h = self.init_hidden(self.num_rnn_layers, X.size(1))\n",
        "        \n",
        "        # Convert words into embeddings\n",
        "        embeddings = self.embeddings(X)\n",
        "        \n",
        "        # Pass through RNN layer and get hidden state at last timestep\n",
        "        output, self.h = self.rec(embeddings, self.h)\n",
        "        \n",
        "        # LSTM returns a tuple of hidden state and cell state, so pick hidden state only\n",
        "        if (rec_unit_type == \"LSTM\"):\n",
        "            self.h = self.h[0]\n",
        "            \n",
        "        # Pass through MLP layer with RELU activation function\n",
        "        out = F.relu(self.mlp[0](self.h[-1]))\n",
        "        for i in range(1, len(self.mlp)):\n",
        "            out = F.relu(self.mlp[i](out))\n",
        "        \n",
        "        return self.out(out)\n",
        "    \n",
        "    def init_hidden(self, num_layers, batch_size): \n",
        "        if (rec_unit_type == \"LSTM\"):\n",
        "            self.h = (Variable(torch.zeros((num_layers,batch_size,self.num_hidden_rnn))).to(device),\n",
        "                      Variable(torch.zeros((num_layers,batch_size,self.num_hidden_rnn))).to(device))\n",
        "        else:\n",
        "            self.h = Variable(torch.zeros((num_layers,batch_size,self.num_hidden_rnn))).to(device)"
      ],
      "execution_count": 0,
      "outputs": []
    },
    {
      "cell_type": "markdown",
      "metadata": {
        "id": "_X-lTtQ0yQVc",
        "colab_type": "text"
      },
      "source": [
        "Definition of training loop, where we return the model at the lowest validation loss during training"
      ]
    },
    {
      "cell_type": "code",
      "metadata": {
        "colab_type": "code",
        "id": "QhZ_myRvuv1B",
        "colab": {}
      },
      "source": [
        "def fit(model, train_dl, val_dl, loss_fn, opt, epochs, batch_size):\n",
        "    measurements = {\n",
        "        \"Train Loss\": [],\n",
        "        \"Train Acc\": [],\n",
        "        \"Val Loss\": [],\n",
        "        \"Val Acc\": [],\n",
        "        \"Lowest Val Loss\": np.Inf,\n",
        "        \"Lowest Val Loss Epoch\": np.Inf\n",
        "    }\n",
        "    lowest_val_loss = np.Inf\n",
        "    lowest_val_loss_epoch = np.Inf\n",
        "    \n",
        "    for epoch in range(epochs):\n",
        "        # Training\n",
        "        y_true_train = list()\n",
        "        y_pred_train = list()\n",
        "        total_loss_train = 0  \n",
        "        \n",
        "        model.train() # Set model in train mode\n",
        "        \n",
        "        for (X,_),y in iter(train_dl):\n",
        "            opt.zero_grad() # Clear old gradients\n",
        "            pred = model(X) # Make prediction using model\n",
        "            loss = loss_fn(pred, y)\n",
        "            loss.backward() # Compute derivatives of loss w.r.t. parameters using backpropagation\n",
        "            opt.step() # Take a step using computed gradients\n",
        "            pred_idx = torch.max(pred, 1)[1]\n",
        "            \n",
        "            y_true_train += list(y.cpu().data.numpy())\n",
        "            y_pred_train += list(pred_idx.cpu().data.numpy())\n",
        "            total_loss_train += loss.item()\n",
        "        \n",
        "        train_acc = accuracy_score(y_true_train, y_pred_train)\n",
        "        train_loss = total_loss_train/len(train_dl)\n",
        "        measurements[\"Train Acc\"].append(train_acc)\n",
        "        measurements[\"Train Loss\"].append(train_loss)\n",
        "        \n",
        "        # Validation\n",
        "        y_true_val = list()\n",
        "        y_pred_val = list()\n",
        "        total_loss_val = 0\n",
        "        \n",
        "        model.eval() # Set model in eval mode\n",
        "\n",
        "        for (X,_),y in iter(val_dl):\n",
        "            pred = model(X)\n",
        "            loss = loss_fn(pred, y)\n",
        "            pred_idx = torch.max(pred, 1)[1]\n",
        "\n",
        "            y_true_val += list(y.cpu().data.numpy())\n",
        "            y_pred_val += list(pred_idx.cpu().data.numpy())\n",
        "            total_loss_val += loss.item()\n",
        "        val_acc = accuracy_score(y_true_val, y_pred_val)\n",
        "        val_loss = total_loss_val/len(val_dl)\n",
        "        measurements[\"Val Acc\"].append(val_acc)\n",
        "        measurements[\"Val Loss\"].append(val_loss)\n",
        "        \n",
        "        if (val_loss < measurements[\"Lowest Val Loss\"]):\n",
        "            torch.save(model.state_dict(), 'checkpoint.pt')\n",
        "            measurements[\"Lowest Val Loss\"] = val_loss\n",
        "            measurements[\"Lowest Val Loss Epoch\"] = epoch\n",
        "        \n",
        "        print(f'Epoch {epoch}: train_loss: {train_loss:.4f} train_acc: {train_acc:.4f} | val_loss: {val_loss:.4f} val_acc: {val_acc:.4f}')\n",
        "        \n",
        "    # Return model checkpoint stored at lowest validation loss\n",
        "    model.load_state_dict(torch.load('checkpoint.pt'))\n",
        "    print(f'Lowest val_loss: {measurements[\"Lowest Val Loss\"]:.4f}, at epoch {measurements[\"Lowest Val Loss Epoch\"]}')\n",
        "    \n",
        "    return model, measurements"
      ],
      "execution_count": 0,
      "outputs": []
    },
    {
      "cell_type": "code",
      "metadata": {
        "colab_type": "code",
        "id": "iMCXvI0PtQjU",
        "colab": {}
      },
      "source": [
        "batch_size = 64\n",
        "traindl, valdl = data.BucketIterator.splits(datasets=(trainds, valds),\n",
        "                                            batch_sizes=(batch_size, batch_size),\n",
        "                                            sort_key=lambda x: len(x.Text),\n",
        "                                            device=device,\n",
        "                                            sort_within_batch=False)\n",
        "train_batch_it = BatchGenerator(traindl, 'Text', 'Label')\n",
        "val_batch_it = BatchGenerator(valdl, 'Text', 'Label')"
      ],
      "execution_count": 0,
      "outputs": []
    },
    {
      "cell_type": "markdown",
      "metadata": {
        "id": "PLCSo2rQyQVx",
        "colab_type": "text"
      },
      "source": [
        "## Grid Search"
      ]
    },
    {
      "cell_type": "markdown",
      "metadata": {
        "id": "ZTLHOPVqyQVy",
        "colab_type": "text"
      },
      "source": [
        "The hyperparameters that we can tune with this model are:\n",
        "\n",
        "1.   Type of recurrent unit (RNN, GRU, LSTM)\n",
        "2.   Recurrent layer size\n",
        "3.   Depth of recurrent network\n",
        "4.   MLP layer size\n",
        "5.   Depth of MLP\n",
        "6.   Whether to train embeddings\n",
        "\n",
        "To limit the search space via grid-search, we did some preliminary testing to eliminate certain variables and determine the size of the search space for each hyperparameter. We noticed the following:\n",
        "\n",
        "1.   RNN did not achieve validation accuracy comparable to GRU or LSTM under all scenarios.\n",
        "2.   Training embeddings did not help at all.\n",
        "3.   Using anything more than 2 layers of recurrent units or MLP did not improve the validation accuracy. The depth and layer size of MLP did not contribute as much to the performance of the model, compared to the recurrent network.\n",
        "\n",
        "Thus, we decided to conduct grid search with the following hyperparameter search space:\n",
        "\n",
        "1.   Type of recurrent unit: [GRU, LSTM]\n",
        "2.   Recurrent layer size: [30, 40, 50, 60, 70, 80, 100, 150, 200, 250]\n",
        "3.   Depth of recurrent network: [1, 2]\n",
        "4.   MLP layer size: [30, 40, 50, 60, 70]\n",
        "\n",
        "Note: Code below is commented out since this takes a long time to run and only used for exploration purposes."
      ]
    },
    {
      "cell_type": "code",
      "metadata": {
        "id": "Kq3mBQtY2Krb",
        "colab_type": "code",
        "colab": {}
      },
      "source": [
        "# vocab_size = len(TEXT.vocab)\n",
        "# embedding_dim = TEXT.vocab.vectors.size()[1]\n",
        "# num_classes = 5\n",
        "# train_embeddings = False\n",
        "\n",
        "# for rec_unit_type in [\"GRU\", \"LSTM\"]:\n",
        "#   for num_hidden_rnn in [30, 40, 50, 60, 70, 80, 100, 150, 200, 250]:\n",
        "#     for num_rnn_layers in [1,2]:\n",
        "#       for mlp_layers in [[30],[40],[50],[60],[70]]:\n",
        "#         print(rec_unit_type, num_hidden_rnn, num_rnn_layers, mlp_layers)\n",
        "\n",
        "#         m = Model(\n",
        "#             vocab_size, \n",
        "#             embedding_dim, \n",
        "#             TEXT.vocab.vectors, \n",
        "#             num_hidden_rnn, \n",
        "#             num_rnn_layers, \n",
        "#             mlp_layers, \n",
        "#             num_classes, \n",
        "#             rec_unit_type, \n",
        "#             train_embeddings).to(device)\n",
        "#         opt = optim.Adam(filter(lambda p: p.requires_grad, m.parameters()), 1e-3)\n",
        "\n",
        "#         m, measurements = fit(\n",
        "#             model=m,\n",
        "#             train_dl=train_batch_it, \n",
        "#             val_dl=val_batch_it, \n",
        "#             loss_fn=F.cross_entropy,\n",
        "#             opt=opt,\n",
        "#             epochs=25,\n",
        "#             batch_size=batch_size)"
      ],
      "execution_count": 0,
      "outputs": []
    },
    {
      "cell_type": "markdown",
      "metadata": {
        "id": "BzC2e40a85EO",
        "colab_type": "text"
      },
      "source": [
        "Looking at the results of grid search, we noticed that:\n",
        "\n",
        "\n",
        "1.   GRU reach the highest validation accuracy (~44%) than LSTM in most scenarios\n",
        "2.   Out of those hyperparameter combinations, a common theme was 2-layer GRUs\n",
        "3.   There were a couple of combinations of parameters that achieved consistently high validation accuracy (~33%). Thus, we selected the combination with the least number of units for generalisation reasons.\n",
        "\n"
      ]
    },
    {
      "cell_type": "markdown",
      "metadata": {
        "id": "p5P5X5qoBQXM",
        "colab_type": "text"
      },
      "source": [
        "## Final Model"
      ]
    },
    {
      "cell_type": "markdown",
      "metadata": {
        "id": "IFjwQOgIiYDW",
        "colab_type": "text"
      },
      "source": [
        "Here, we have our optimum architecture based on our grid search. We trained our model to convergence on training loss. However, we picked the model when it has the lowest validation loss, which happens quite early on."
      ]
    },
    {
      "cell_type": "code",
      "metadata": {
        "colab_type": "code",
        "id": "wJODJ5S5tRSk",
        "outputId": "b4dabd2c-0f42-438f-e269-d6fe60d5db9f",
        "scrolled": true,
        "colab": {
          "base_uri": "https://localhost:8080/",
          "height": 153
        }
      },
      "source": [
        "vocab_size = len(TEXT.vocab)\n",
        "embedding_dim = TEXT.vocab.vectors.size()[1]\n",
        "num_hidden_rnn = 50\n",
        "num_rnn_layers = 2\n",
        "mlp_layers = [50]\n",
        "num_classes = 5\n",
        "rec_unit_type = \"GRU\"\n",
        "train_embeddings = False\n",
        "\n",
        "m = Model(\n",
        "    vocab_size, \n",
        "    embedding_dim, \n",
        "    TEXT.vocab.vectors, \n",
        "    num_hidden_rnn, \n",
        "    num_rnn_layers, \n",
        "    mlp_layers, \n",
        "    num_classes, \n",
        "    rec_unit_type, \n",
        "    train_embeddings).to(device)\n",
        "# Filter is in place to ensure only layers with \"requires_grad\" will have their weights updated\n",
        "opt = optim.Adam(filter(lambda p: p.requires_grad, m.parameters()), 1e-3)\n",
        "\n",
        "print(m)"
      ],
      "execution_count": 0,
      "outputs": [
        {
          "output_type": "stream",
          "text": [
            "Model(\n",
            "  (embeddings): Embedding(18254, 300)\n",
            "  (rec): GRU(300, 50, num_layers=2)\n",
            "  (mlp): ModuleList(\n",
            "    (0): Linear(in_features=50, out_features=50, bias=True)\n",
            "  )\n",
            "  (out): Linear(in_features=50, out_features=5, bias=True)\n",
            ")\n"
          ],
          "name": "stdout"
        }
      ]
    },
    {
      "cell_type": "code",
      "metadata": {
        "colab_type": "code",
        "id": "3zrl8-EQ24Wm",
        "outputId": "c639426d-acdc-4520-96d1-0c4d86fe9bed",
        "colab": {
          "base_uri": "https://localhost:8080/",
          "height": 1000
        }
      },
      "source": [
        "m, measurements = fit(\n",
        "    model=m,\n",
        "    train_dl=train_batch_it, \n",
        "    val_dl=val_batch_it, \n",
        "    loss_fn=F.cross_entropy,\n",
        "    opt=opt,\n",
        "    epochs=100,\n",
        "    batch_size=batch_size)"
      ],
      "execution_count": 0,
      "outputs": [
        {
          "output_type": "stream",
          "text": [
            "Epoch 0: train_loss: 1.5715 train_acc: 0.2665 | val_loss: 1.5787 val_acc: 0.2534\n",
            "Epoch 1: train_loss: 1.5685 train_acc: 0.2704 | val_loss: 1.5682 val_acc: 0.2589\n",
            "Epoch 2: train_loss: 1.5236 train_acc: 0.3150 | val_loss: 1.4061 val_acc: 0.3833\n",
            "Epoch 3: train_loss: 1.3206 train_acc: 0.4084 | val_loss: 1.4621 val_acc: 0.3633\n",
            "Epoch 4: train_loss: 1.2489 train_acc: 0.4426 | val_loss: 1.3289 val_acc: 0.4133\n",
            "Epoch 5: train_loss: 1.2102 train_acc: 0.4544 | val_loss: 1.3418 val_acc: 0.4205\n",
            "Epoch 6: train_loss: 1.1798 train_acc: 0.4753 | val_loss: 1.3229 val_acc: 0.4060\n",
            "Epoch 7: train_loss: 1.1579 train_acc: 0.4798 | val_loss: 1.3177 val_acc: 0.4269\n",
            "Epoch 8: train_loss: 1.1384 train_acc: 0.4925 | val_loss: 1.3349 val_acc: 0.4069\n",
            "Epoch 9: train_loss: 1.1169 train_acc: 0.5049 | val_loss: 1.3678 val_acc: 0.4133\n",
            "Epoch 10: train_loss: 1.0849 train_acc: 0.5254 | val_loss: 1.3218 val_acc: 0.4196\n",
            "Epoch 11: train_loss: 1.0637 train_acc: 0.5296 | val_loss: 1.3211 val_acc: 0.4205\n",
            "Epoch 12: train_loss: 1.0370 train_acc: 0.5500 | val_loss: 1.3192 val_acc: 0.4360\n",
            "Epoch 13: train_loss: 1.0040 train_acc: 0.5611 | val_loss: 1.3326 val_acc: 0.4342\n",
            "Epoch 14: train_loss: 0.9652 train_acc: 0.5879 | val_loss: 1.4055 val_acc: 0.4142\n",
            "Epoch 15: train_loss: 0.9348 train_acc: 0.6044 | val_loss: 1.3449 val_acc: 0.4332\n",
            "Epoch 16: train_loss: 0.8870 train_acc: 0.6264 | val_loss: 1.4176 val_acc: 0.4405\n",
            "Epoch 17: train_loss: 0.8461 train_acc: 0.6553 | val_loss: 1.4696 val_acc: 0.4024\n",
            "Epoch 18: train_loss: 0.7983 train_acc: 0.6737 | val_loss: 1.5255 val_acc: 0.4114\n",
            "Epoch 19: train_loss: 0.7600 train_acc: 0.6963 | val_loss: 1.5124 val_acc: 0.4360\n",
            "Epoch 20: train_loss: 0.7215 train_acc: 0.7143 | val_loss: 1.6241 val_acc: 0.4096\n",
            "Epoch 21: train_loss: 0.6816 train_acc: 0.7335 | val_loss: 1.6068 val_acc: 0.4205\n",
            "Epoch 22: train_loss: 0.6206 train_acc: 0.7612 | val_loss: 1.7095 val_acc: 0.4114\n",
            "Epoch 23: train_loss: 0.5855 train_acc: 0.7787 | val_loss: 1.8020 val_acc: 0.4178\n",
            "Epoch 24: train_loss: 0.5466 train_acc: 0.7946 | val_loss: 1.7930 val_acc: 0.4060\n",
            "Epoch 25: train_loss: 0.5135 train_acc: 0.8075 | val_loss: 1.8339 val_acc: 0.4087\n",
            "Epoch 26: train_loss: 0.4594 train_acc: 0.8332 | val_loss: 1.9529 val_acc: 0.3960\n",
            "Epoch 27: train_loss: 0.4491 train_acc: 0.8391 | val_loss: 1.9812 val_acc: 0.4015\n",
            "Epoch 28: train_loss: 0.4093 train_acc: 0.8533 | val_loss: 2.0102 val_acc: 0.3878\n",
            "Epoch 29: train_loss: 0.4033 train_acc: 0.8548 | val_loss: 1.9791 val_acc: 0.3906\n",
            "Epoch 30: train_loss: 0.3605 train_acc: 0.8741 | val_loss: 2.1139 val_acc: 0.3933\n",
            "Epoch 31: train_loss: 0.3591 train_acc: 0.8735 | val_loss: 2.0893 val_acc: 0.3842\n",
            "Epoch 32: train_loss: 0.3377 train_acc: 0.8814 | val_loss: 2.1528 val_acc: 0.3842\n",
            "Epoch 33: train_loss: 0.3134 train_acc: 0.8917 | val_loss: 2.1821 val_acc: 0.3842\n",
            "Epoch 34: train_loss: 0.2954 train_acc: 0.8985 | val_loss: 2.3144 val_acc: 0.3987\n",
            "Epoch 35: train_loss: 0.2950 train_acc: 0.9007 | val_loss: 2.1946 val_acc: 0.3787\n",
            "Epoch 36: train_loss: 0.2637 train_acc: 0.9123 | val_loss: 2.2931 val_acc: 0.3787\n",
            "Epoch 37: train_loss: 0.2519 train_acc: 0.9165 | val_loss: 2.3980 val_acc: 0.3860\n",
            "Epoch 38: train_loss: 0.2435 train_acc: 0.9204 | val_loss: 2.3956 val_acc: 0.3906\n",
            "Epoch 39: train_loss: 0.2469 train_acc: 0.9167 | val_loss: 2.3734 val_acc: 0.3915\n",
            "Epoch 40: train_loss: 0.2142 train_acc: 0.9313 | val_loss: 2.4698 val_acc: 0.3751\n",
            "Epoch 41: train_loss: 0.2005 train_acc: 0.9353 | val_loss: 2.5304 val_acc: 0.3869\n",
            "Epoch 42: train_loss: 0.2350 train_acc: 0.9223 | val_loss: 2.4547 val_acc: 0.3815\n",
            "Epoch 43: train_loss: 0.2158 train_acc: 0.9279 | val_loss: 2.5196 val_acc: 0.3742\n",
            "Epoch 44: train_loss: 0.1915 train_acc: 0.9398 | val_loss: 2.5594 val_acc: 0.3815\n",
            "Epoch 45: train_loss: 0.1976 train_acc: 0.9349 | val_loss: 2.6282 val_acc: 0.3924\n",
            "Epoch 46: train_loss: 0.1963 train_acc: 0.9368 | val_loss: 2.6185 val_acc: 0.3915\n",
            "Epoch 47: train_loss: 0.1609 train_acc: 0.9489 | val_loss: 2.6694 val_acc: 0.3815\n",
            "Epoch 48: train_loss: 0.1512 train_acc: 0.9535 | val_loss: 2.7694 val_acc: 0.3760\n",
            "Epoch 49: train_loss: 0.1662 train_acc: 0.9486 | val_loss: 2.6611 val_acc: 0.3769\n",
            "Epoch 50: train_loss: 0.1571 train_acc: 0.9501 | val_loss: 2.8423 val_acc: 0.3842\n",
            "Epoch 51: train_loss: 0.1591 train_acc: 0.9492 | val_loss: 2.8139 val_acc: 0.3833\n",
            "Epoch 52: train_loss: 0.1551 train_acc: 0.9513 | val_loss: 2.8339 val_acc: 0.3787\n",
            "Epoch 53: train_loss: 0.1504 train_acc: 0.9528 | val_loss: 2.7870 val_acc: 0.3697\n",
            "Epoch 54: train_loss: 0.1423 train_acc: 0.9542 | val_loss: 2.9722 val_acc: 0.3824\n",
            "Epoch 55: train_loss: 0.1282 train_acc: 0.9603 | val_loss: 2.9595 val_acc: 0.3815\n",
            "Epoch 56: train_loss: 0.1062 train_acc: 0.9685 | val_loss: 3.0172 val_acc: 0.3887\n",
            "Epoch 57: train_loss: 0.1206 train_acc: 0.9621 | val_loss: 3.1832 val_acc: 0.3715\n",
            "Epoch 58: train_loss: 0.1322 train_acc: 0.9585 | val_loss: 3.0752 val_acc: 0.3887\n",
            "Epoch 59: train_loss: 0.1315 train_acc: 0.9599 | val_loss: 3.0779 val_acc: 0.3933\n",
            "Epoch 60: train_loss: 0.1075 train_acc: 0.9689 | val_loss: 3.1196 val_acc: 0.3778\n",
            "Epoch 61: train_loss: 0.0981 train_acc: 0.9707 | val_loss: 3.2232 val_acc: 0.3896\n",
            "Epoch 62: train_loss: 0.1095 train_acc: 0.9650 | val_loss: 3.2339 val_acc: 0.3869\n",
            "Epoch 63: train_loss: 0.1130 train_acc: 0.9644 | val_loss: 3.2577 val_acc: 0.3942\n",
            "Epoch 64: train_loss: 0.1308 train_acc: 0.9615 | val_loss: 3.1922 val_acc: 0.3615\n",
            "Epoch 65: train_loss: 0.1148 train_acc: 0.9648 | val_loss: 3.2305 val_acc: 0.3806\n",
            "Epoch 66: train_loss: 0.1059 train_acc: 0.9675 | val_loss: 3.3129 val_acc: 0.3878\n",
            "Epoch 67: train_loss: 0.1017 train_acc: 0.9676 | val_loss: 3.2458 val_acc: 0.3860\n",
            "Epoch 68: train_loss: 0.0987 train_acc: 0.9693 | val_loss: 3.3746 val_acc: 0.3915\n",
            "Epoch 69: train_loss: 0.0955 train_acc: 0.9707 | val_loss: 3.2927 val_acc: 0.3869\n",
            "Epoch 70: train_loss: 0.0762 train_acc: 0.9767 | val_loss: 3.5887 val_acc: 0.3797\n",
            "Epoch 71: train_loss: 0.0878 train_acc: 0.9725 | val_loss: 3.4288 val_acc: 0.3797\n",
            "Epoch 72: train_loss: 0.1334 train_acc: 0.9588 | val_loss: 3.3572 val_acc: 0.3778\n",
            "Epoch 73: train_loss: 0.0948 train_acc: 0.9716 | val_loss: 3.4578 val_acc: 0.3787\n",
            "Epoch 74: train_loss: 0.0642 train_acc: 0.9817 | val_loss: 3.5601 val_acc: 0.3815\n",
            "Epoch 75: train_loss: 0.0663 train_acc: 0.9815 | val_loss: 3.6235 val_acc: 0.3769\n",
            "Epoch 76: train_loss: 0.0764 train_acc: 0.9786 | val_loss: 3.6059 val_acc: 0.3760\n",
            "Epoch 77: train_loss: 0.0817 train_acc: 0.9758 | val_loss: 3.6564 val_acc: 0.3778\n",
            "Epoch 78: train_loss: 0.0809 train_acc: 0.9745 | val_loss: 3.6749 val_acc: 0.3688\n",
            "Epoch 79: train_loss: 0.0701 train_acc: 0.9785 | val_loss: 3.6845 val_acc: 0.3815\n",
            "Epoch 80: train_loss: 0.1120 train_acc: 0.9634 | val_loss: 3.6674 val_acc: 0.3878\n",
            "Epoch 81: train_loss: 0.0855 train_acc: 0.9754 | val_loss: 3.5565 val_acc: 0.3951\n",
            "Epoch 82: train_loss: 0.0632 train_acc: 0.9821 | val_loss: 3.6144 val_acc: 0.3842\n",
            "Epoch 83: train_loss: 0.0573 train_acc: 0.9836 | val_loss: 3.7583 val_acc: 0.4005\n",
            "Epoch 84: train_loss: 0.0533 train_acc: 0.9855 | val_loss: 3.8373 val_acc: 0.3824\n",
            "Epoch 85: train_loss: 0.0712 train_acc: 0.9792 | val_loss: 3.7866 val_acc: 0.3842\n",
            "Epoch 86: train_loss: 0.0563 train_acc: 0.9850 | val_loss: 3.7946 val_acc: 0.3833\n",
            "Epoch 87: train_loss: 0.0449 train_acc: 0.9870 | val_loss: 3.8795 val_acc: 0.3996\n",
            "Epoch 88: train_loss: 0.0527 train_acc: 0.9846 | val_loss: 3.9318 val_acc: 0.3924\n",
            "Epoch 89: train_loss: 0.0664 train_acc: 0.9789 | val_loss: 3.8572 val_acc: 0.3860\n",
            "Epoch 90: train_loss: 0.0628 train_acc: 0.9808 | val_loss: 3.9508 val_acc: 0.3878\n",
            "Epoch 91: train_loss: 0.0779 train_acc: 0.9768 | val_loss: 3.7715 val_acc: 0.3833\n",
            "Epoch 92: train_loss: 0.0692 train_acc: 0.9799 | val_loss: 3.9271 val_acc: 0.3824\n",
            "Epoch 93: train_loss: 0.0442 train_acc: 0.9878 | val_loss: 4.0137 val_acc: 0.3733\n",
            "Epoch 94: train_loss: 0.0312 train_acc: 0.9917 | val_loss: 4.1155 val_acc: 0.3842\n",
            "Epoch 95: train_loss: 0.0507 train_acc: 0.9854 | val_loss: 4.0678 val_acc: 0.3815\n",
            "Epoch 96: train_loss: 0.0757 train_acc: 0.9774 | val_loss: 4.0531 val_acc: 0.3996\n",
            "Epoch 97: train_loss: 0.0613 train_acc: 0.9823 | val_loss: 4.0071 val_acc: 0.3824\n",
            "Epoch 98: train_loss: 0.0593 train_acc: 0.9830 | val_loss: 4.0772 val_acc: 0.3942\n",
            "Epoch 99: train_loss: 0.0335 train_acc: 0.9904 | val_loss: 4.1749 val_acc: 0.3915\n",
            "Lowest val_loss: 1.3177, at epoch 7\n"
          ],
          "name": "stdout"
        }
      ]
    },
    {
      "cell_type": "code",
      "metadata": {
        "id": "CrmAmxBlyQV6",
        "colab_type": "code",
        "outputId": "a734078c-884c-42b6-ef5a-32d0bea95cde",
        "colab": {
          "base_uri": "https://localhost:8080/",
          "height": 367
        }
      },
      "source": [
        "plt.figure(figsize=(10,5))\n",
        "plt.plot(measurements[\"Train Loss\"], label=\"Train Loss\")\n",
        "plt.plot(measurements[\"Val Loss\"], label=\"Validation Loss\")\n",
        "plt.axvline(measurements[\"Lowest Val Loss Epoch\"], linestyle='--', color='r',label='Checkpoint')\n",
        "plt.title(\"Loss Plot\")\n",
        "plt.xlabel(\"Epochs\")\n",
        "plt.ylabel(\"Cross Entropy Loss\")\n",
        "plt.legend()"
      ],
      "execution_count": 0,
      "outputs": [
        {
          "output_type": "execute_result",
          "data": {
            "text/plain": [
              "<matplotlib.legend.Legend at 0x7fe2ad013668>"
            ]
          },
          "metadata": {
            "tags": []
          },
          "execution_count": 39
        },
        {
          "output_type": "display_data",
          "data": {
            "image/png": "[encoded data removed]",
            "text/plain": [
              "<Figure size 720x360 with 1 Axes>"
            ]
          },
          "metadata": {
            "tags": []
          }
        }
      ]
    },
    {
      "cell_type": "markdown",
      "metadata": {
        "id": "VlK2yhmMyQV-",
        "colab_type": "text"
      },
      "source": [
        "## Final Accuracies"
      ]
    },
    {
      "cell_type": "code",
      "metadata": {
        "colab_type": "code",
        "id": "-g3CyY0t9cqV",
        "colab": {}
      },
      "source": [
        "testdl = data.Iterator(testds,\n",
        "                        batch_size=batch_size,\n",
        "                        sort_key=lambda x: len(x.Text),\n",
        "                        device=device,\n",
        "                        sort_within_batch=False)\n",
        "test_batch_it = BatchGenerator(testdl, 'Text', 'Label')\n",
        "m.eval()\n",
        "loss_fn=F.cross_entropy\n",
        "accuracies = []\n",
        "\n",
        "for batch_it in [train_batch_it, val_batch_it, test_batch_it]:\n",
        "  y_true = list()\n",
        "  y_pred = list()\n",
        "  total_loss = 0\n",
        "\n",
        "  for (X,lengths),y in iter(batch_it):\n",
        "      pred = m(X)\n",
        "      loss = loss_fn(pred, y)\n",
        "      pred_idx = torch.max(pred, 1)[1]\n",
        "\n",
        "      y_true += list(y.cpu().data.numpy())\n",
        "      y_pred += list(pred_idx.cpu().data.numpy())\n",
        "      total_loss += loss.item()\n",
        "\n",
        "  acc = accuracy_score(y_true, y_pred)\n",
        "  accuracies.append(acc)"
      ],
      "execution_count": 0,
      "outputs": []
    },
    {
      "cell_type": "code",
      "metadata": {
        "id": "-aEkKa9zyQWF",
        "colab_type": "code",
        "outputId": "de51c6ed-2033-41d0-e654-cb7f7766db2c",
        "colab": {
          "base_uri": "https://localhost:8080/",
          "height": 68
        }
      },
      "source": [
        "print(f'Training Accuracy: {accuracies[0]:.4f}')\n",
        "print(f'Validation Accuracy: {accuracies[1]:.4f}')\n",
        "print(f'Test Accuracy: {accuracies[2]:.4f}')"
      ],
      "execution_count": 0,
      "outputs": [
        {
          "output_type": "stream",
          "text": [
            "Training Accuracy: 0.5091\n",
            "Validation Accuracy: 0.4269\n",
            "Test Accuracy: 0.4416\n"
          ],
          "name": "stdout"
        }
      ]
    },
    {
      "cell_type": "markdown",
      "metadata": {
        "id": "DFVgJBllyQWH",
        "colab_type": "text"
      },
      "source": [
        "## Test Inferences"
      ]
    },
    {
      "cell_type": "code",
      "metadata": {
        "id": "rl54_VloyQWI",
        "colab_type": "code",
        "outputId": "62632557-ca93-468c-a0cc-87d6d3b208e9",
        "colab": {
          "base_uri": "https://localhost:8080/",
          "height": 102
        }
      },
      "source": [
        "# Movie reviews from:\n",
        "# https://www.rottentomatoes.com/m/the_dark_knight\n",
        "\n",
        "reviews = [\n",
        "    \"An exceptionally smart, brooding picture with some terrific performances.\",\n",
        "    \"You will feel utterly numb after the screening of The Dark Knight. The film is bleak and brilliant.\",\n",
        "    \"The definitive movie of its genre and the best Batman film to date\",\n",
        "    \"Too much psychology and not enough pop. It's possible to be too serious, you know.\",\n",
        "    \"One of the most stylish extravaganzas in years.\",\n",
        "]\n",
        "field = [('Text', TEXT)]\n",
        "my_examples = pd.DataFrame({'text': reviews})\n",
        "my_examples.to_csv('/tmp/my_examples.csv', index=False)\n",
        "my_ds = data.TabularDataset(path='/tmp/my_examples.csv', \n",
        "                            format='csv', \n",
        "                            fields=field, \n",
        "                            skip_header=True)\n",
        "my_dl = data.Iterator(my_ds, batch_size=5, device=device)\n",
        "my_it = BatchGenerator(my_dl, 'Text', 'Text')\n",
        "m.eval()\n",
        "\n",
        "(X,_),_ = next(iter(my_it))\n",
        "pred = m(X)\n",
        "pred_idx = torch.max(pred, 1)[1].cpu().data.numpy()\n",
        "for i in range(len(pred_idx)):\n",
        "  print(\"Sentiment: {}. Review: {}\".format(pred_idx[i], reviews[i]))"
      ],
      "execution_count": 0,
      "outputs": [
        {
          "output_type": "stream",
          "text": [
            "Sentiment: 4. Review: An exceptionally smart, brooding picture with some terrific performances.\n",
            "Sentiment: 4. Review: You will feel utterly numb after the screening of The Dark Knight. The film is bleak and brilliant.\n",
            "Sentiment: 4. Review: The definitive movie of its genre and the best Batman film to date\n",
            "Sentiment: 0. Review: Too much psychology and not enough pop. It's possible to be too serious, you know.\n",
            "Sentiment: 1. Review: One of the most stylish extravaganzas in years.\n"
          ],
          "name": "stdout"
        }
      ]
    },
    {
      "cell_type": "markdown",
      "metadata": {
        "collapsed": true,
        "id": "MXr25yHvyQWK",
        "colab_type": "text"
      },
      "source": [
        "## References"
      ]
    },
    {
      "cell_type": "markdown",
      "metadata": {
        "id": "bhsYZ_K-yQWL",
        "colab_type": "text"
      },
      "source": [
        "https://medium.com/@sonicboom8/sentiment-analysis-torchtext-55fb57b1fab8"
      ]
    }
  ]
}